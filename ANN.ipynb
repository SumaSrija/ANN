{
  "nbformat": 4,
  "nbformat_minor": 0,
  "metadata": {
    "colab": {
      "provenance": []
    },
    "kernelspec": {
      "name": "python3",
      "display_name": "Python 3"
    },
    "language_info": {
      "name": "python"
    }
  },
  "cells": [
    {
      "cell_type": "code",
      "execution_count": null,
      "metadata": {
        "colab": {
          "base_uri": "https://localhost:8080/"
        },
        "id": "Sv_oojsHocrb",
        "outputId": "a83835db-8066-48cf-f0ce-cc2ab78c7549"
      },
      "outputs": [
        {
          "output_type": "stream",
          "name": "stdout",
          "text": [
            "[0.5]\n"
          ]
        }
      ],
      "source": [
        "from joblib.numpy_pickle_utils import xrange\n",
        "from numpy import *\n",
        "\n",
        "\n",
        "class NeuralNet(object):\n",
        "    def __init__(self):\n",
        "        # Generate random numbers\n",
        "        random.seed(1)\n",
        "\n",
        "        # Assign random weights to a 3 x 1 matrix,\n",
        "        self.synaptic_weights = 2 * random.random((3, 1)) - 1\n",
        "\n",
        "    # The Sigmoid function\n",
        "    def __sigmoid(self, x):\n",
        "        return 1 / (1 + exp(-x))\n",
        "\n",
        "    # The derivative of the Sigmoid function.\n",
        "    # This is the gradient of the Sigmoid curve.\n",
        "    def __sigmoid_derivative(self, x):\n",
        "        return x * (1 - x)\n",
        "\n",
        "    # Train the neural network and adjust the weights each time.\n",
        "    def train(self, inputs, outputs, training_iterations):\n",
        "        for iteration in xrange(training_iterations):\n",
        "            # Pass the training set through the network.\n",
        "            output = self.learn(inputs)\n",
        "\n",
        "            # Calculate the error\n",
        "            error = outputs - output\n",
        "\n",
        "            # Adjust the weights by a factor\n",
        "            factor = dot(inputs.T, error * self.__sigmoid_derivative(output))\n",
        "            self.synaptic_weights += factor\n",
        "\n",
        "        # The neural network thinks.\n",
        "\n",
        "    def learn(self, inputs):\n",
        "        return self.__sigmoid(dot(inputs, self.synaptic_weights))\n",
        "\n",
        "\n",
        "if __name__ == \"__main__\":\n",
        "    # Initialize\n",
        "    neural_network = NeuralNet()\n",
        "\n",
        "    # The training set.\n",
        "    inputs = array([[0, 0], [0, 1], [1, 0], [1, 1]])\n",
        "    outputs = array([[0, 0, 0, 1]]).T\n",
        "\n",
        "    # Train the neural network\n",
        "    neural_network.train(inputs, outputs, 10000)\n",
        "\n",
        "    # Test the neural network with a test example.\n",
        "    print(neural_network.learn(array([0, 0, 1])))"
      ]
    },
    {
      "cell_type": "code",
      "source": [],
      "metadata": {
        "id": "CBkqueFsjY3u"
      },
      "execution_count": null,
      "outputs": []
    },
    {
      "cell_type": "code",
      "source": [
        "class NeuralNet(object):\n",
        "    def __init__(self):\n",
        "        # Generate random numbers\n",
        "        random.seed(1)\n",
        "\n",
        "        # Assign random weights to a 3 x 1 matrix,\n",
        "        self.synaptic_weights = 2 * random.random((3, 1)) - 1\n",
        "\n",
        "    # The Sigmoid function\n",
        "    def __sigmoid(self, x):\n",
        "        return 1 / (1 + exp(-x))\n",
        "\n",
        "    # The derivative of the Sigmoid function.\n",
        "    # This is the gradient of the Sigmoid curve.\n",
        "    def __sigmoid_derivative(self, x):\n",
        "        return x * (1 - x)\n",
        "\n",
        "    # Train the neural network and adjust the weights each time.\n",
        "    def train(self, inputs, outputs, training_iterations):\n",
        "        for iteration in xrange(training_iterations):\n",
        "            # Pass the training set through the network.\n",
        "            output = self.learn(inputs)\n",
        "\n",
        "            # Calculate the error\n",
        "            error = outputs - output\n",
        "\n",
        "            # Adjust the weights by a factor\n",
        "            factor = dot(inputs.T, error * self.__sigmoid_derivative(output))\n",
        "            self.synaptic_weights += factor\n",
        "\n",
        "        # The neural network thinks.\n",
        "\n",
        "    def learn(self, inputs):\n",
        "        return self.__sigmoid(dot(inputs, self.synaptic_weights))\n",
        "\n",
        "\n",
        "if __name__ == \"__main__\":\n",
        "    # Initialize\n",
        "    neural_network = NeuralNet()\n",
        "\n",
        "    # The training set.\n",
        "    inputs = array([[0, 1, 1], [1, 0, 0], [1, 0, 1]])\n",
        "    outputs = array([[1, 0, 1]]).T\n",
        "\n",
        "    # Train the neural network\n",
        "    neural_network.train(inputs, outputs, 10000)\n",
        "\n",
        "    # Test the neural network with a test example.\n",
        "    print(neural_network.learn(array([1, 0, 1])))"
      ],
      "metadata": {
        "colab": {
          "base_uri": "https://localhost:8080/"
        },
        "id": "mY2akPJ9ohtp",
        "outputId": "fa3d5abb-6eee-4059-c976-f3f76495331b"
      },
      "execution_count": null,
      "outputs": [
        {
          "output_type": "stream",
          "name": "stdout",
          "text": [
            "[0.9897704]\n"
          ]
        }
      ]
    },
    {
      "cell_type": "code",
      "source": [
        "import numpy as np\n",
        "def sigmoid(Z):\n",
        "  return 1 / (1 + np.exp(-Z))"
      ],
      "metadata": {
        "id": "rTONLYHKp9gM"
      },
      "execution_count": null,
      "outputs": []
    },
    {
      "cell_type": "code",
      "source": [
        "import numpy as np\n",
        "import pandas as pd\n",
        "import random\n",
        "import sklearn\n",
        "import pylab\n",
        "from scipy import stats\n",
        "from sklearn.linear_model import SGDClassifier\n",
        "from sklearn.preprocessing import StandardScaler\n",
        "from sklearn.pipeline import make_pipeline\n",
        "if __name__ == '__main__':\n",
        "    y = pd.read_csv(\"../content/drug200.csv\", header=None)\n",
        "    x = y.iloc[1:100, 0:4].values\n",
        "    y = y.iloc[1:100, 5].values\n",
        "    print ('x.shape = %s y.shape = %s' %(x.shape, y.shape))\n",
        "    X_train = x\n",
        "    X_test = x\n",
        "    alpha = 0.01\n",
        "    ep = 0.01\n",
        "    scaler = StandardScaler()\n",
        "    scaler.fit(X_train)\n",
        "    X_train = scaler.transform(X_train)\n",
        "    X_test = scaler.transform(X_test)\n",
        "    est = make_pipeline(StandardScaler(), SGDClassifier())\n",
        "    est.fit(X_train,y)\n",
        "    est.predict(X_test)\n",
        "\n",
        "\n",
        "    .+++++++++++++++++++++++++++++++++++++++++++++++++++++++++++++++++++++++++++++++++++++++++++++++++++++++++++++++++++++++++++++++++++++++++++++++++++++++++++++++++++++++++++++++++++++++++++++++++++++++++++++++++++++++++++++++++++++++++++++++++++++++++++++++++++++++++++++++++++++++++++++++++++++++++++++++++++++++++\n",
        "    print (\"Done!\")"
      ],
      "metadata": {
        "id": "27Es1PtsS7K7",
        "colab": {
          "base_uri": "https://localhost:8080/"
        },
        "outputId": "5c2c474a-f84e-4de7-89bf-0d3196dcac9b"
      },
      "execution_count": null,
      "outputs": [
        {
          "output_type": "stream",
          "name": "stdout",
          "text": [
            "x.shape = (99, 4) y.shape = (99,)\n",
            "Done!\n"
          ]
        }
      ]
    },
    {
      "cell_type": "code",
      "source": [
        "import tensorflow as tf\n",
        "from tensorflow.keras import layers, models\n",
        "from tensorflow.keras.datasets import mnist\n",
        "from tensorflow.keras.utils import to_categorical\n",
        "(train_images, train_labels), (test_images, test_labels) = mnist.load_data()\n",
        "train_images = train_images.reshape((60000, 28, 28, 1)).astype('float32') / 255\n",
        "test_images = test_images.reshape((10000, 28, 28, 1)).astype('float32') / 255\n",
        "train_labels = to_categorical(train_labels)\n",
        "test_labels = to_categorical(test_labels)\n",
        "model = models.Sequential()\n",
        "model.add(layers.Conv2D(32, (3, 3), activation='relu', input_shape=(28, 28, 1)))\n",
        "model.add(layers.MaxPooling2D((2, 2)))\n",
        "model.add(layers.Conv2D(64, (3, 3), activation='relu'))\n",
        "model.add(layers.MaxPooling2D((2, 2)))\n",
        "model.add(layers.Conv2D(64, (3, 3), activation='relu'))\n",
        "model.add(layers.Flatten())\n",
        "model.add(layers.Dense(64, activation='relu'))\n",
        "model.add(layers.Dense(10, activation='softmax'))\n",
        "model.compile(optimizer='adam',\n",
        "              loss='categorical_crossentropy',\n",
        "              metrics=['accuracy'])\n",
        "model.fit(train_images, train_labels, epochs=5, batch_size=64, validation_data=(test_images, test_labels))\n",
        "test_loss, test_acc = model.evaluate(test_images, test_labels)\n",
        "print(f'Test accuracy: {test_acc}')\n"
      ],
      "metadata": {
        "colab": {
          "base_uri": "https://localhost:8080/"
        },
        "id": "KnrPJUo6jf6A",
        "outputId": "f19549d1-3644-43b8-ebab-f14fe32578e8"
      },
      "execution_count": null,
      "outputs": [
        {
          "output_type": "stream",
          "name": "stdout",
          "text": [
            "Downloading data from https://storage.googleapis.com/tensorflow/tf-keras-datasets/mnist.npz\n",
            "11490434/11490434 [==============================] - 0s 0us/step\n",
            "Epoch 1/5\n",
            "938/938 [==============================] - 61s 63ms/step - loss: 0.1867 - accuracy: 0.9423 - val_loss: 0.0571 - val_accuracy: 0.9823\n",
            "Epoch 2/5\n",
            "938/938 [==============================] - 51s 54ms/step - loss: 0.0517 - accuracy: 0.9842 - val_loss: 0.0345 - val_accuracy: 0.9882\n",
            "Epoch 3/5\n",
            "938/938 [==============================] - 46s 49ms/step - loss: 0.0364 - accuracy: 0.9884 - val_loss: 0.0282 - val_accuracy: 0.9906\n",
            "Epoch 4/5\n",
            "938/938 [==============================] - 47s 50ms/step - loss: 0.0286 - accuracy: 0.9912 - val_loss: 0.0304 - val_accuracy: 0.9906\n",
            "Epoch 5/5\n",
            "938/938 [==============================] - 45s 48ms/step - loss: 0.0242 - accuracy: 0.9923 - val_loss: 0.0313 - val_accuracy: 0.9909\n",
            "313/313 [==============================] - 3s 11ms/step - loss: 0.0313 - accuracy: 0.9909\n",
            "Test accuracy: 0.9908999800682068\n"
          ]
        }
      ]
    }
  ]
}